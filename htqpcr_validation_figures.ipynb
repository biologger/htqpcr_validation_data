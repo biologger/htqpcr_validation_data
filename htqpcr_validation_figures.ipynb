{
 "cells": [
  {
   "cell_type": "code",
   "execution_count": null,
   "metadata": {
    "scrolled": true
   },
   "outputs": [],
   "source": [
    "%matplotlib inline\n",
    "import os\n",
    "import sys\n",
    "sys.path.insert(0, os.getcwd())\n",
    "import pandas as pd\n",
    "import matplotlib.pyplot as plt\n",
    "from matplotlib import gridspec\n",
    "import matplotlib.image as mpimg\n",
    "import seaborn as sns\n",
    "import warnings;\n",
    "warnings.filterwarnings('ignore')\n",
    "\n",
    "WORKDIR = os.getcwd()\n",
    "os.chdir(WORKDIR)\n",
    "print(WORKDIR)\n",
    "if not os.path.isdir(\"Figures\"):\n",
    "    os.mkdir(\"Figures\")"
   ]
  },
  {
   "cell_type": "code",
   "execution_count": null,
   "metadata": {
    "scrolled": true
   },
   "outputs": [],
   "source": [
    "# Standard curves\n",
    "%run -i biomarkdataparser.py -i rawdata/Assayvalidation_triplicates_rawdata.csv --title \"\" --number 3 --replicates assay --outdir Standardcurves --outfile \"Figures/FigS3_standard_curves_validation\" -c -f png"
   ]
  },
  {
   "cell_type": "code",
   "execution_count": null,
   "metadata": {
    "scrolled": true
   },
   "outputs": [],
   "source": [
    "# Mock community pre-amplification\n",
    "%run -i biomarkdataparser.py -i rawdata/Assayvalidation_triplicates_rawdata.csv --number 3 --replicates assay --outdir Validation/Mock_community --samplefilter Mock -x Fail NTC -f png --italic y --color --datatoplot copy --transpose --title \"\" --figsize 6 12 --legendposition -0.1 0.79 --labelfile labelfiles/preamp_labels.csv --outfile \"Figures/Fig3_Mock_community\""
   ]
  },
  {
   "cell_type": "code",
   "execution_count": null,
   "metadata": {
    "scrolled": true
   },
   "outputs": [],
   "source": [
    "# Difference between expected & measured copy numbers in mock communit dilutions\n",
    "%run -i biomarkdataparser.py -i rawdata/Assayvalidation_triplicates_rawdata.csv --number 3 --replicates assay --outdir Validation/Mock_community_dilution --samplefilter Mock -x Fail preamp -f png --italic y --color --datatoplot \"None\" --transpose --title \"\" --figsize 7 12 --legendposition -0.1 0.79 --rawdata"
   ]
  },
  {
   "cell_type": "code",
   "execution_count": null,
   "metadata": {
    "scrolled": false
   },
   "outputs": [],
   "source": [
    "# Difference between expected & measured copy numbers in mock communit dilutions\n",
    "dildata = \"Validation/Mock_community_dilution/raw_copy_heatmap_data.csv\"\n",
    "df = pd.read_csv(dildata, sep=\",\", index_col=0)\n",
    "df = df.drop(\"4 Mock 10^2\")\n",
    "df = df.replace(np.nan, 0)\n",
    "# share axes\n",
    "ncols=6\n",
    "assays = list(df.columns)\n",
    "nrows = 4\n",
    "assays.sort()\n",
    "\n",
    "fig, ax = plt.subplots(\n",
    "        nrows=nrows, ncols=ncols, sharex='col', sharey='row',\n",
    "        figsize=(ncols*2.5, nrows*2))\n",
    "\n",
    "fig.add_subplot(111, frameon=False)\n",
    "plt.tick_params(labelcolor='none', top=False, bottom=False, left=False, right=False)\n",
    "plt.grid(False)\n",
    "plt.xlabel(\"Predicted copies / \\u03BCl (\" + \"$log_{10}$\" + \")\", fontsize=16, labelpad=10)\n",
    "plt.ylabel(\"Measured copies / \\u03BCl (\" + \"$log_{10}$\" + \")\", fontsize=16, labelpad=10)\n",
    "ind = 0\n",
    "for r in range(0, nrows):\n",
    "    for c in range(0, ncols):         \n",
    "        q = np.array(df.iloc[:, ind:ind + 3]).flatten().tolist()\n",
    "        z = q.count(0)\n",
    "        if z >= 2:\n",
    "            ey = q[-3::]\n",
    "            ex = [3, 3, 3]\n",
    "            y = q[0:-3]\n",
    "            x = [5, 5, 5, 4, 4, 4]\n",
    "        else:\n",
    "            x = [5, 5, 5, 4, 4, 4, 3, 3, 3]\n",
    "            y = q\n",
    "            ey = []\n",
    "            ex = []\n",
    "\n",
    "        ax[r, c].plot(x, y, '.', c=\"black\", markersize=6)\n",
    "        ax[r, c].plot(ex, ey, '.', c=\"red\", markersize=6)\n",
    "        \n",
    "        ax[r, c].plot([5, 5, 5, 4, 4, 4, 3, 3, 3], [5, 5, 5, 4, 4, 4, 3, 3, 3], c=\"blue\", linewidth=0.8)\n",
    "        ax[r, c].set_xlim(2, 6)\n",
    "        ax[r, c].set_ylim(2, 6)\n",
    "\n",
    "        ax[r, c].set_title(df.columns[ind].split(\" \")[0], fontsize=12)\n",
    "\n",
    "        ax[r, c].xaxis.set_ticks([2, 3, 4, 5, 6]) \n",
    "        ax[r, c].yaxis.set_ticks([2, 3, 4, 5, 6])  \n",
    "\n",
    "        for tick in ax[r, c].xaxis.get_major_ticks():\n",
    "            tick.label.set_fontsize(10)\n",
    "        for tick in ax[r, c].yaxis.get_major_ticks():\n",
    "            tick.label.set_fontsize(10)\n",
    "        # Triplicates\n",
    "        ind +=3\n",
    "    \n",
    "plt.savefig(\"Figures/FigS4_predicted_measured_copies.png\", dpi=600, bbox_inches='tight')\n",
    "plt.show()"
   ]
  },
  {
   "cell_type": "code",
   "execution_count": null,
   "metadata": {
    "scrolled": true
   },
   "outputs": [],
   "source": [
    "%run -i biomarkdataparser.py -i rawdata/Assayvalidation_triplicates_rawdata.csv --number 3 --replicates assay --outdir Validation/deltaCq --samplefilter \"2 Mock\" \"5 Mock\" --deltact \"(preamp)\" \"Mock\" --datatoplot None"
   ]
  },
  {
   "cell_type": "code",
   "execution_count": null,
   "metadata": {},
   "outputs": [],
   "source": [
    "# Delta Cq Table\n",
    "assay_dict = {}\n",
    "with open(\"labelfiles/assay_species.csv\") as f:\n",
    "    reader = csv.reader(f)\n",
    "    for row in reader:\n",
    "        assay_dict[row[0]] = row[1]\n",
    "\n",
    "df = pd.read_csv(\"Validation/deltaCq/cq_heatmap_data.csv\", sep=\",\", index_col=0)\n",
    "df = df.T\n",
    "df.columns = [\"Cq before preamplification\", \"Cq after preamplification\"]\n",
    "df[\"Delta Cq\"] = df[\"Cq before preamplification\"] - df[\"Cq after preamplification\"]\n",
    "df.index = df.index.map(assay_dict)\n",
    "df = df.round(decimals=2)\n",
    "df.index.name = \"Species\"\n",
    "df.to_csv(\"Figures/Tab4_preamp_delta_cq.csv\")"
   ]
  },
  {
   "cell_type": "code",
   "execution_count": null,
   "metadata": {
    "scrolled": true
   },
   "outputs": [],
   "source": [
    "# Standard calibration curves Cheese samples\n",
    "%run -i biomarkdataparser.py -i rawdata/CheeseSamples_validation_rawdata.csv --number 3 --replicates sample --title \"\" --outdir Cheese/Standardcurves -c --outfile \"Figures/FigS5_cheesesamples_standard_calibration_curves\" -f png"
   ]
  },
  {
   "cell_type": "code",
   "execution_count": null,
   "metadata": {},
   "outputs": [],
   "source": [
    "# Inoculated cheese samples\n",
    "%run -i biomarkdataparser.py -i rawdata/CheeseSamples_validation_rawdata.csv --number 3 --replicates sample --outdir Cheese/adjuncts --samplefilter V18-22-73 -f png --title \"\" -x PW --italic y --color --transpose --legendposition -0.1 0.788 --labelfile labelfiles/inoculated_cheese_labels.csv"
   ]
  },
  {
   "cell_type": "code",
   "execution_count": null,
   "metadata": {},
   "outputs": [],
   "source": [
    "df2 = pd.read_csv(\"rawdata/bga_prop_data.csv\", sep=\",\", index_col=0)\n",
    "df_prop = pd.DataFrame(df2.iloc[3,])\n",
    "df_prop = df_prop.T\n",
    "df2.drop(\"Propionic acid\", inplace=True)\n",
    "\n",
    "spec_pal = ['#1E88E5', '#FFC107', '#004D40']\n",
    "df2.sort_index(inplace=True, ascending=False)\n",
    "\n",
    "fig, axs = plt.subplots(\n",
    "            2, len(df2.columns), figsize=(6, 0.5), sharey='row',\n",
    "            gridspec_kw={'height_ratios': [4, 1]})\n",
    "\n",
    "for i, j in enumerate(df2.columns):\n",
    "    names = df2.index\n",
    "    values=df2[j]\n",
    "    axs[0, i].barh(y=names, width=values, height=0.8, color=spec_pal)\n",
    "    axs[0, i].set_xlim(0, max(df2.loc[\"Tyramine\"]))\n",
    "\n",
    "    axs[0, i].xaxis.set_ticks_position(\"top\")\n",
    "    axs[0, i].tick_params(axis=\"y\", length=0, width=0, labelsize=7)\n",
    "    axs[0, i].tick_params(axis=\"x\", length=2, pad=0, labelsize=4)\n",
    "    \n",
    "axs[0, 0].axes.get_yaxis().set_visible(False)\n",
    "axs[0, 18].yaxis.set_ticks_position(\"right\")\n",
    "\n",
    "axs[0, 10].set_xlabel(\"[mg/kg]\", labelpad=-35, fontsize=6)\n",
    "    \n",
    "for i, j in enumerate(df_prop.columns):\n",
    "    names = df_prop.index\n",
    "    values=df_prop[j]\n",
    "    axs[1, i].barh(y=names, width=values, height=0.8, color=\"red\")\n",
    "    axs[1, i].set_xlim(0, max(df_prop.loc[\"Propionic acid\"]))\n",
    "    axs[1, i].xaxis.set_ticks_position(\"bottom\")\n",
    "    axs[1, i].tick_params(axis=\"y\", length=0, width=0, labelsize=7)\n",
    "    axs[1, i].tick_params(axis=\"x\", length=2, pad=0, labelsize=4)\n",
    "    axs[1, i].xaxis.set_ticks([0, 20])\n",
    "axs[1, 0].axes.get_yaxis().set_visible(False)\n",
    "axs[1, 18].yaxis.set_ticks_position(\"right\")\n",
    "    \n",
    "axs[1, 10].set_xlabel(\"[mmol/kg]\", labelpad=1, fontsize=6)\n",
    "\n",
    "plt.subplots_adjust(left=None, bottom=None, right=None, top=None, wspace=0.01, hspace=None)\n",
    "\n",
    "plt.savefig(\"Cheese/adjuncts/figures/chem_analysis.png\", dpi=600, bbox_inches='tight')\n",
    "plt.show()"
   ]
  },
  {
   "cell_type": "code",
   "execution_count": null,
   "metadata": {
    "scrolled": true
   },
   "outputs": [],
   "source": [
    "fig = plt.figure(figsize=(8, 11))\n",
    "width_ratios=[1.9, 15, 2.8]\n",
    "height_ratios=[1.5, 12]\n",
    "spec = gridspec.GridSpec(\n",
    "                        ncols=3, nrows=2, figure=fig,\n",
    "                        width_ratios=width_ratios, height_ratios=height_ratios,\n",
    "                        hspace=0, wspace=0) # \n",
    "ax1 = fig.add_subplot(spec[0, 1])\n",
    "ax2 = fig.add_subplot(spec[1, 0::])\n",
    "\n",
    "chem = mpimg.imread(\"Cheese/adjuncts/figures/chem_analysis.png\")\n",
    "heatmap = mpimg.imread('Cheese/adjuncts/figures/qPCR_heatmap_copy.png')\n",
    "\n",
    "ax1.imshow(chem, origin='upper')\n",
    "ax2.imshow(heatmap)\n",
    "\n",
    "ax1.set_frame_on(False)\n",
    "ax1.patch.set_visible(False)\n",
    "ax1.set_xticklabels([])\n",
    "ax1.set_yticklabels([])\n",
    "ax1.tick_params(axis=\"both\",length=0, width=0., pad=0)\n",
    "\n",
    "ax2.set_frame_on(False)\n",
    "ax2.patch.set_visible(False)\n",
    "ax2.set_xticklabels([])\n",
    "ax2.set_yticklabels([])\n",
    "ax2.tick_params(axis=\"both\",length=0, width=0., pad=0)\n",
    "\n",
    "plt.axis(\"off\")\n",
    "\n",
    "plt.savefig(\"Figures/Fig4_cheese_adjuncts.png\", dpi=600, bbox_inches='tight')"
   ]
  },
  {
   "cell_type": "code",
   "execution_count": null,
   "metadata": {},
   "outputs": [],
   "source": [
    "# Cheese with defects\n",
    "%run -i biomarkdataparser.py -i rawdata/CheeseSamples_validation_rawdata.csv --number 3 --replicates sample --outdir Cheese/Praxisproben --typefilter Unknown --samplefilter Commercial --transpose -x \"Not relevant\" -f png --title \"\" --labelfile labelfiles/cheese_labels.csv --italic y --color --figsize 4 9 --legendposition -0.1 0.788"
   ]
  },
  {
   "cell_type": "code",
   "execution_count": null,
   "metadata": {},
   "outputs": [],
   "source": [
    "df2 = pd.read_csv(\"rawdata/bga_prop_praxis.csv\", sep=\",\", index_col=0)\n",
    "df_prop = pd.DataFrame(df2.iloc[3,])\n",
    "df_prop = df_prop.T\n",
    "df2.drop(\"Propionic acid\", inplace=True)\n",
    "spec_pal = ['#1E88E5', '#FFC107', '#004D40']\n",
    "df2.sort_index(inplace=True, ascending=False)\n",
    "\n",
    "fig, axs = plt.subplots(\n",
    "            2, len(df2.columns), figsize=(1.5, 0.5), sharey='row',\n",
    "    gridspec_kw={'height_ratios': [4, 1]})\n",
    "\n",
    "for i, j in enumerate(df2.columns):\n",
    "    names = df2.index\n",
    "    values=df2[j]\n",
    "    axs[0, i].barh(y=names, width=values, height=0.8, color=spec_pal)\n",
    "    axs[0, i].set_xlim(0, max(df2.loc[\"Histamine\"]))\n",
    "    axs[0, i].xaxis.set_ticks_position(\"top\")\n",
    "    axs[0, i].tick_params(axis=\"y\", length=0, width=0, labelsize=6)\n",
    "    axs[0, i].tick_params(axis=\"x\", length=2, pad=0, labelsize=4)\n",
    "    axs[0, i].xaxis.set_ticks([0, 500])\n",
    "axs[0, 0].axes.get_yaxis().set_visible(False)\n",
    "axs[0, 1].yaxis.set_ticks_position(\"right\")\n",
    "\n",
    "axs[0, 1].set_xlabel(\"[mg/kg]\", labelpad=-32, fontsize=5)\n",
    "    \n",
    "for i, j in enumerate(df_prop.columns):\n",
    "    names = df_prop.index\n",
    "    values=df_prop[j]\n",
    "    axs[1, i].barh(y=names, width=values, height=0.8, color=\"red\")\n",
    "    axs[1, i].set_xlim(0, max(df_prop.loc[\"Propionic acid\"]))\n",
    "    axs[1, i].xaxis.set_ticks_position(\"bottom\")\n",
    "    axs[1, i].tick_params(axis=\"y\", length=0, width=0, labelsize=6)\n",
    "    axs[1, i].tick_params(axis=\"x\", length=2, pad=0, labelsize=4)\n",
    "    axs[1, i].xaxis.set_ticks([0, 20])\n",
    "axs[1, 0].axes.get_yaxis().set_visible(False)\n",
    "axs[1, 1].yaxis.set_ticks_position(\"right\")\n",
    "\n",
    "axs[1, 1].set_xlabel(\"[mmol/kg]\", labelpad=1, fontsize=5)\n",
    "\n",
    "plt.subplots_adjust(left=None, bottom=None, right=None, top=None, wspace=0.01, hspace=None)\n",
    "\n",
    "plt.savefig(\"Cheese/Praxisproben/figures/chem_analysis.png\", dpi=600, bbox_inches='tight')\n",
    "plt.show()"
   ]
  },
  {
   "cell_type": "code",
   "execution_count": null,
   "metadata": {},
   "outputs": [],
   "source": [
    "fig = plt.figure(figsize=(4, 11))\n",
    "spec = gridspec.GridSpec(\n",
    "                        ncols=1, nrows=2, figure=fig,\n",
    "                        height_ratios=[1, 8],\n",
    "                        hspace=0.1, wspace=0)\n",
    "\n",
    "ax1 = fig.add_subplot(spec[0, 0])\n",
    "ax2 = fig.add_subplot(spec[1, 0])\n",
    "\n",
    "chem = mpimg.imread(\"Cheese/Praxisproben/figures/chem_analysis.png\")\n",
    "heatmap = mpimg.imread('Cheese/Praxisproben/figures/qPCR_heatmap_copy.png')\n",
    "\n",
    "ax1.imshow(chem, aspect=\"auto\", interpolation='nearest')\n",
    "ax2.imshow(heatmap, aspect=\"equal\", interpolation='nearest')\n",
    "pos1 = ax1.get_position()\n",
    "pos1_new = [0.20, 0.72,  pos1.width/1.6, pos1.height] \n",
    "ax1.set_position(pos1_new)\n",
    "\n",
    "ax1.set_frame_on(False)\n",
    "ax1.patch.set_visible(False)\n",
    "ax1.set_xticklabels([])\n",
    "ax1.set_yticklabels([])\n",
    "ax1.tick_params(axis=\"both\",length=0, width=0., pad=0)\n",
    "\n",
    "ax2.set_frame_on(False)\n",
    "ax2.patch.set_visible(False)\n",
    "ax2.set_xticklabels([])\n",
    "ax2.set_yticklabels([])\n",
    "ax2.tick_params(axis=\"both\",length=0, width=0., pad=0)\n",
    "\n",
    "plt.axis(\"off\")\n",
    "\n",
    "if not os.path.isdir(\"Figures\"):\n",
    "    os.mkdir(\"Figures\")\n",
    "plt.savefig(\"Figures/Fig5_cheese_defects.png\", dpi=600, bbox_inches='tight')\n",
    "plt.show()"
   ]
  }
 ],
 "metadata": {
  "kernelspec": {
   "display_name": "Python 3",
   "language": "python",
   "name": "python3"
  },
  "language_info": {
   "codemirror_mode": {
    "name": "ipython",
    "version": 3
   },
   "file_extension": ".py",
   "mimetype": "text/x-python",
   "name": "python",
   "nbconvert_exporter": "python",
   "pygments_lexer": "ipython3",
   "version": "3.6.10"
  }
 },
 "nbformat": 4,
 "nbformat_minor": 2
}
